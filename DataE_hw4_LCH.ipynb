{
 "cells": [
  {
   "cell_type": "code",
   "execution_count": 1,
   "id": "f08b675b",
   "metadata": {},
   "outputs": [
    {
     "name": "stdout",
     "output_type": "stream",
     "text": [
      "당신의 조선시대 이름은 안칠걸 입니다.\n"
     ]
    }
   ],
   "source": [
    "def get_my_chosun_name(family_name, month, day):\n",
    "    first_names = ['쌍', '쇠', '복', '돌', '팽', '육', '쌍', '개', '칠', '갑', '삼', '방']\n",
    "    \n",
    "    second_names = [\n",
    "        '봉', '구', '욕', '포', '똥', '삼', '식', '석', '놈', '님', '년', '돌',\n",
    "        '단', '득', '방', '질', '장', '걸', '래', '룡', '동', '순', '자', '박',\n",
    "        '창', '언', '것', '포', '만', '단', '국'\n",
    "    ]\n",
    "    \n",
    "    first_name = first_names[month - 1]\n",
    "    second_name = second_names[day - 1]\n",
    "    chosun_name = family_name + first_name + second_name\n",
    "    \n",
    "    return f'당신의 조선시대 이름은 {chosun_name} 입니다.'\n",
    "\n",
    "print(get_my_chosun_name('안', 9, 18))"
   ]
  },
  {
   "cell_type": "code",
   "execution_count": null,
   "id": "5a324c80",
   "metadata": {},
   "outputs": [],
   "source": []
  },
  {
   "cell_type": "code",
   "execution_count": null,
   "id": "db098c60",
   "metadata": {},
   "outputs": [],
   "source": []
  },
  {
   "cell_type": "code",
   "execution_count": null,
   "id": "990e76c9",
   "metadata": {},
   "outputs": [],
   "source": []
  }
 ],
 "metadata": {
  "kernelspec": {
   "display_name": "Python 3 (ipykernel)",
   "language": "python",
   "name": "python3"
  },
  "language_info": {
   "codemirror_mode": {
    "name": "ipython",
    "version": 3
   },
   "file_extension": ".py",
   "mimetype": "text/x-python",
   "name": "python",
   "nbconvert_exporter": "python",
   "pygments_lexer": "ipython3",
   "version": "3.11.4"
  }
 },
 "nbformat": 4,
 "nbformat_minor": 5
}
